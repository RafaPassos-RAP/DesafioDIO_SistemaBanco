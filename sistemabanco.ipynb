{
 "cells": [
  {
   "cell_type": "code",
   "execution_count": 1,
   "id": "c8d1d05d",
   "metadata": {},
   "outputs": [],
   "source": [
    "menu = '''\n",
    "[d] Depósito\n",
    "[s] Saque\n",
    "[e] Extrato\n",
    "[q] Sair\n",
    "'''"
   ]
  },
  {
   "cell_type": "code",
   "execution_count": 50,
   "id": "9608d352",
   "metadata": {},
   "outputs": [],
   "source": [
    "saldo = 0\n",
    "limite = 500\n",
    "extrato = \"\"\n",
    "numero_saques = 0\n",
    "LIMITE_SAQUES = 3"
   ]
  },
  {
   "cell_type": "code",
   "execution_count": 52,
   "id": "528d5f57",
   "metadata": {},
   "outputs": [
    {
     "name": "stdout",
     "output_type": "stream",
     "text": [
      "Depósito no valor de R$1000.59\n",
      "Saque no valor de R$200.32\n",
      "\n",
      "Saldo atual da conta: R$800.27\n",
      "Saindo\n"
     ]
    }
   ],
   "source": [
    "while True:\n",
    "\n",
    "    opcao = input(menu)\n",
    "\n",
    "    if opcao == 'd':\n",
    "        while True:            \n",
    "            valor_deposito = float(input('Qual o valor gostaria de depositar?'))\n",
    "\n",
    "            if valor_deposito < 0:\n",
    "                print('Não é possível realizar depósitos de números negativos')\n",
    "            else:\n",
    "                resposta_confirmacao_deposito = input(f'Você digitou o valor {valor_deposito} você confirma esse valor? [1] Sim /[2] Não')\n",
    "                \n",
    "                if resposta_confirmacao_deposito == '1' or resposta_confirmacao_deposito == 'Sim':\n",
    "                    saldo = saldo + valor_deposito\n",
    "                    print('Deposito realizado com sucesso')\n",
    "                    extrato += f'Depósito no valor de R${valor_deposito:.2f}\\n'\n",
    "                    break\n",
    "                else:\n",
    "                    print('Tente novamente')\n",
    "                    continue\n",
    "\n",
    "\n",
    "    elif opcao == 's':\n",
    "        verifica_limite_saque = LIMITE_SAQUES > 0\n",
    "\n",
    "        if verifica_limite_saque:\n",
    "                valor_saque = float(input(f'Você possui o saldo de {saldo}, qual o valor que gostaria de sacar?'))\n",
    "\n",
    "                saque_maior_saldo = valor_saque > saldo\n",
    "                saque_maior_limite = valor_saque > limite\n",
    "            \n",
    "                if saque_maior_saldo:\n",
    "                    print('Operação cancelada, saldo insuficiente para realizar o saque')\n",
    "\n",
    "                elif saque_maior_limite:\n",
    "                    print('Operação cancelada, o valor desejado é maior do que o limite máximo de saque')\n",
    "\n",
    "                elif valor_saque > 0:\n",
    "                    saldo = saldo - valor_saque\n",
    "                    print(f'Saque no valor de {valor_saque} realizado com sucesso')\n",
    "                    LIMITE_SAQUES -= 1\n",
    "                    extrato += f'Saque no valor de R${valor_saque:.2f}\\n'\n",
    "\n",
    "                else:\n",
    "                    print('Desculpe, não possível realizar saques de números negativos')\n",
    "\n",
    "        else:\n",
    "            print('Você ultrapassou o limite de saques diários, favor aguardar até amanhã, obrigado!')\n",
    "\n",
    "\n",
    "\n",
    "    elif opcao == 'e':\n",
    "        if extrato == '':\n",
    "            print('Não foram realizadas movimentações')\n",
    "        else:\n",
    "            print(f'{extrato}\\nSaldo atual da conta: R${saldo:.2f}')\n",
    "\n",
    "    elif opcao == 'q':\n",
    "        print('Saindo')\n",
    "        break\n",
    "    else: \n",
    "        print('Opção inválida, tente novamente')"
   ]
  }
 ],
 "metadata": {
  "kernelspec": {
   "display_name": "Python 3",
   "language": "python",
   "name": "python3"
  },
  "language_info": {
   "codemirror_mode": {
    "name": "ipython",
    "version": 3
   },
   "file_extension": ".py",
   "mimetype": "text/x-python",
   "name": "python",
   "nbconvert_exporter": "python",
   "pygments_lexer": "ipython3",
   "version": "3.13.5"
  }
 },
 "nbformat": 4,
 "nbformat_minor": 5
}
